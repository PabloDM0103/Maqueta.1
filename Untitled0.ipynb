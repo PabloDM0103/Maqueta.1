{
  "nbformat": 4,
  "nbformat_minor": 0,
  "metadata": {
    "colab": {
      "provenance": [],
      "authorship_tag": "ABX9TyMS9DvZCMrMKG3A/SeNVE0m",
      "include_colab_link": true
    },
    "kernelspec": {
      "name": "python3",
      "display_name": "Python 3"
    },
    "language_info": {
      "name": "python"
    }
  },
  "cells": [
    {
      "cell_type": "markdown",
      "metadata": {
        "id": "view-in-github",
        "colab_type": "text"
      },
      "source": [
        "<a href=\"https://colab.research.google.com/github/PabloDM0103/Maqueta.1/blob/main/Untitled0.ipynb\" target=\"_parent\"><img src=\"https://colab.research.google.com/assets/colab-badge.svg\" alt=\"Open In Colab\"/></a>"
      ]
    },
    {
      "cell_type": "code",
      "execution_count": null,
      "metadata": {
        "id": "CBsFVsrvY-3O"
      },
      "outputs": [],
      "source": []
    },
    {
      "cell_type": "code",
      "source": [],
      "metadata": {
        "id": "58y23zAYa3x4"
      },
      "execution_count": null,
      "outputs": []
    },
    {
      "cell_type": "markdown",
      "source": [
        "###Este es mi muestra de GOOGLE COLAB\n",
        "\n",
        "##Yo soy Juan Pablo De La O Magallon\n",
        "\n",
        "\n",
        "\n",
        "<img src=https://media.gq.com.mx/photos/5fd51c587938a266e30f81d1/4:3/w_2248,h_1686,c_limit/Deadpool.jpg>"
      ],
      "metadata": {
        "id": "UyqUExPaa6r9"
      }
    }
  ]
}